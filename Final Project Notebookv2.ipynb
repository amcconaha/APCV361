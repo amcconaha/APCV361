{
 "cells": [
  {
   "cell_type": "markdown",
   "id": "3838ee98",
   "metadata": {},
   "source": [
    "# Final Project Notebook\n",
    "\n",
    "### Amber Greer and Ashlyn Mcconaha\n",
    "\n",
    "#### University of Arizona - APCV-361 \n",
    "\n",
    "#### Professor Li Xu\n"
   ]
  },
  {
   "cell_type": "markdown",
   "id": "a2609e98",
   "metadata": {},
   "source": [
    "                                 Socioeconomic Factors and Health Outcomes"
   ]
  },
  {
   "cell_type": "markdown",
   "id": "d9cc3203",
   "metadata": {},
   "source": [
    "Research Question: “How do socioeconomic factors such as income, education, and employment affect health outcomes such as premature death rates and overall health quality in counties?”"
   ]
  },
  {
   "cell_type": "markdown",
   "id": "cbc1bdb6",
   "metadata": {},
   "source": [
    "## Summary"
   ]
  },
  {
   "cell_type": "markdown",
   "id": "034b69e3",
   "metadata": {},
   "source": [
    "For our project we determined that income, education, and employment status were the variables we wanted to evaluate. \n",
    "By evaluating these variables in conjunction with quality-of-life variables such as poor or fair health, poor physical health days, poor mental health days, and low birthweight and/or length of life variables such as premature death (years of potential life lost before age 75) it would paint a robust picture of any correlations in those areas. \n",
    "The social economic factors and health outcomes that we have chosen will give us a variety of different results and We will be evaluating across three different areas New York, Texas and California. "
   ]
  },
  {
   "cell_type": "markdown",
   "id": "3a1b40c7",
   "metadata": {},
   "source": [
    "### Methodology/Algorithm"
   ]
  },
  {
   "cell_type": "markdown",
   "id": "1f2e7e8b",
   "metadata": {},
   "source": [
    "#### Data Source and Collection"
   ]
  },
  {
   "cell_type": "markdown",
   "id": "c6d29f20",
   "metadata": {},
   "source": [
    "Source of Data:\n",
    "Our analysis is based on data obtained from the County Health Rankings & Roadmaps program, which is a collaboration between the Robert Wood Johnson Foundation and the University of Wisconsin Population Health Institute.\n",
    "\n",
    "Nature of the Data:\n",
    "The dataset provides a comprehensive overview of health outcomes and health factors for nearly every county in the United States. It encompasses a wide range of measures that include variables related to:\n",
    "\n",
    "Health Outcomes: Such as quality of life, length of life, and specific health behaviors.\n",
    "Health Factors: Covering a broad spectrum, from socioeconomic factors like income, education, and employment, to environmental factors and access to healthcare.\n",
    "The dataset is particularly valuable for public health research as it encapsulates various determinants of health in a geographically granular manner, allowing for county-level analysis.\n",
    "\n",
    "Data Accessibility:\n",
    "The data is publicly accessible and can be downloaded from the County Health Rankings & Roadmaps website. Specifically, the data used in our project can be found in the Rankings Data section of their site:\n",
    "\n",
    "County Health Rankings & Roadmaps - Rankings Data Documentation\n",
    "\n",
    "Data Collection Method:\n",
    "The data was downloaded as an Excel file directly from the above-mentioned webpage. The dataset is provided in a format that is conducive to comprehensive analysis, with each row representing a county and columns representing various health indicators.\n",
    "\n",
    "Initial Data Inspection:\n",
    "Upon initial inspection, the dataset includes numerous variables, ranging from demographic data to detailed health metrics. Here is a glimpse of the first few rows of the dataset:"
   ]
  },
  {
   "cell_type": "code",
   "execution_count": 2,
   "id": "348ce682",
   "metadata": {},
   "outputs": [
    {
     "data": {
      "text/html": [
       "<div>\n",
       "<style scoped>\n",
       "    .dataframe tbody tr th:only-of-type {\n",
       "        vertical-align: middle;\n",
       "    }\n",
       "\n",
       "    .dataframe tbody tr th {\n",
       "        vertical-align: top;\n",
       "    }\n",
       "\n",
       "    .dataframe thead th {\n",
       "        text-align: right;\n",
       "    }\n",
       "</style>\n",
       "<table border=\"1\" class=\"dataframe\">\n",
       "  <thead>\n",
       "    <tr style=\"text-align: right;\">\n",
       "      <th></th>\n",
       "      <th>State FIPS Code</th>\n",
       "      <th>County FIPS Code</th>\n",
       "      <th>5-digit FIPS Code</th>\n",
       "      <th>State Abbreviation</th>\n",
       "      <th>Name</th>\n",
       "      <th>Release Year</th>\n",
       "      <th>County Ranked (Yes=1/No=0)</th>\n",
       "      <th>Premature Death raw value</th>\n",
       "      <th>Premature Death numerator</th>\n",
       "      <th>Premature Death denominator</th>\n",
       "      <th>...</th>\n",
       "      <th>% Female raw value</th>\n",
       "      <th>% Female numerator</th>\n",
       "      <th>% Female denominator</th>\n",
       "      <th>% Female CI low</th>\n",
       "      <th>% Female CI high</th>\n",
       "      <th>% Rural raw value</th>\n",
       "      <th>% Rural numerator</th>\n",
       "      <th>% Rural denominator</th>\n",
       "      <th>% Rural CI low</th>\n",
       "      <th>% Rural CI high</th>\n",
       "    </tr>\n",
       "  </thead>\n",
       "  <tbody>\n",
       "    <tr>\n",
       "      <th>0</th>\n",
       "      <td>statecode</td>\n",
       "      <td>countycode</td>\n",
       "      <td>fipscode</td>\n",
       "      <td>state</td>\n",
       "      <td>county</td>\n",
       "      <td>year</td>\n",
       "      <td>county_ranked</td>\n",
       "      <td>v001_rawvalue</td>\n",
       "      <td>v001_numerator</td>\n",
       "      <td>v001_denominator</td>\n",
       "      <td>...</td>\n",
       "      <td>v057_rawvalue</td>\n",
       "      <td>v057_numerator</td>\n",
       "      <td>v057_denominator</td>\n",
       "      <td>v057_cilow</td>\n",
       "      <td>v057_cihigh</td>\n",
       "      <td>v058_rawvalue</td>\n",
       "      <td>v058_numerator</td>\n",
       "      <td>v058_denominator</td>\n",
       "      <td>v058_cilow</td>\n",
       "      <td>v058_cihigh</td>\n",
       "    </tr>\n",
       "    <tr>\n",
       "      <th>1</th>\n",
       "      <td>00</td>\n",
       "      <td>000</td>\n",
       "      <td>00000</td>\n",
       "      <td>US</td>\n",
       "      <td>United States</td>\n",
       "      <td>2023</td>\n",
       "      <td>NaN</td>\n",
       "      <td>7281.9355638</td>\n",
       "      <td>4125218</td>\n",
       "      <td>917267406</td>\n",
       "      <td>...</td>\n",
       "      <td>0.5047067187</td>\n",
       "      <td>167509003</td>\n",
       "      <td>331893745</td>\n",
       "      <td>NaN</td>\n",
       "      <td>NaN</td>\n",
       "      <td>0.193</td>\n",
       "      <td>NaN</td>\n",
       "      <td>NaN</td>\n",
       "      <td>NaN</td>\n",
       "      <td>NaN</td>\n",
       "    </tr>\n",
       "    <tr>\n",
       "      <th>2</th>\n",
       "      <td>01</td>\n",
       "      <td>000</td>\n",
       "      <td>01000</td>\n",
       "      <td>AL</td>\n",
       "      <td>Alabama</td>\n",
       "      <td>2023</td>\n",
       "      <td>NaN</td>\n",
       "      <td>10350.071456</td>\n",
       "      <td>88086</td>\n",
       "      <td>13668498</td>\n",
       "      <td>...</td>\n",
       "      <td>0.5142542169</td>\n",
       "      <td>2591778</td>\n",
       "      <td>5039877</td>\n",
       "      <td>NaN</td>\n",
       "      <td>NaN</td>\n",
       "      <td>0.409631829</td>\n",
       "      <td>1957932</td>\n",
       "      <td>4779736</td>\n",
       "      <td>NaN</td>\n",
       "      <td>NaN</td>\n",
       "    </tr>\n",
       "    <tr>\n",
       "      <th>3</th>\n",
       "      <td>01</td>\n",
       "      <td>001</td>\n",
       "      <td>01001</td>\n",
       "      <td>AL</td>\n",
       "      <td>Autauga County</td>\n",
       "      <td>2023</td>\n",
       "      <td>1</td>\n",
       "      <td>8027.3947267</td>\n",
       "      <td>836</td>\n",
       "      <td>156081</td>\n",
       "      <td>...</td>\n",
       "      <td>0.513782892</td>\n",
       "      <td>30362</td>\n",
       "      <td>59095</td>\n",
       "      <td>NaN</td>\n",
       "      <td>NaN</td>\n",
       "      <td>0.4200216232</td>\n",
       "      <td>22921</td>\n",
       "      <td>54571</td>\n",
       "      <td>NaN</td>\n",
       "      <td>NaN</td>\n",
       "    </tr>\n",
       "    <tr>\n",
       "      <th>4</th>\n",
       "      <td>01</td>\n",
       "      <td>003</td>\n",
       "      <td>01003</td>\n",
       "      <td>AL</td>\n",
       "      <td>Baldwin County</td>\n",
       "      <td>2023</td>\n",
       "      <td>1</td>\n",
       "      <td>8118.3582061</td>\n",
       "      <td>3377</td>\n",
       "      <td>614143</td>\n",
       "      <td>...</td>\n",
       "      <td>0.5134771453</td>\n",
       "      <td>122872</td>\n",
       "      <td>239294</td>\n",
       "      <td>NaN</td>\n",
       "      <td>NaN</td>\n",
       "      <td>0.4227909911</td>\n",
       "      <td>77060</td>\n",
       "      <td>182265</td>\n",
       "      <td>NaN</td>\n",
       "      <td>NaN</td>\n",
       "    </tr>\n",
       "  </tbody>\n",
       "</table>\n",
       "<p>5 rows × 720 columns</p>\n",
       "</div>"
      ],
      "text/plain": [
       "  State FIPS Code County FIPS Code 5-digit FIPS Code State Abbreviation  \\\n",
       "0       statecode       countycode          fipscode              state   \n",
       "1              00              000             00000                 US   \n",
       "2              01              000             01000                 AL   \n",
       "3              01              001             01001                 AL   \n",
       "4              01              003             01003                 AL   \n",
       "\n",
       "             Name Release Year County Ranked (Yes=1/No=0)  \\\n",
       "0          county         year              county_ranked   \n",
       "1   United States         2023                        NaN   \n",
       "2         Alabama         2023                        NaN   \n",
       "3  Autauga County         2023                          1   \n",
       "4  Baldwin County         2023                          1   \n",
       "\n",
       "  Premature Death raw value Premature Death numerator  \\\n",
       "0             v001_rawvalue            v001_numerator   \n",
       "1              7281.9355638                   4125218   \n",
       "2              10350.071456                     88086   \n",
       "3              8027.3947267                       836   \n",
       "4              8118.3582061                      3377   \n",
       "\n",
       "  Premature Death denominator  ... % Female raw value % Female numerator  \\\n",
       "0            v001_denominator  ...      v057_rawvalue     v057_numerator   \n",
       "1                   917267406  ...       0.5047067187          167509003   \n",
       "2                    13668498  ...       0.5142542169            2591778   \n",
       "3                      156081  ...        0.513782892              30362   \n",
       "4                      614143  ...       0.5134771453             122872   \n",
       "\n",
       "  % Female denominator % Female CI low % Female CI high % Rural raw value  \\\n",
       "0     v057_denominator      v057_cilow      v057_cihigh     v058_rawvalue   \n",
       "1            331893745             NaN              NaN             0.193   \n",
       "2              5039877             NaN              NaN       0.409631829   \n",
       "3                59095             NaN              NaN      0.4200216232   \n",
       "4               239294             NaN              NaN      0.4227909911   \n",
       "\n",
       "  % Rural numerator % Rural denominator % Rural CI low % Rural CI high  \n",
       "0    v058_numerator    v058_denominator     v058_cilow     v058_cihigh  \n",
       "1               NaN                 NaN            NaN             NaN  \n",
       "2           1957932             4779736            NaN             NaN  \n",
       "3             22921               54571            NaN             NaN  \n",
       "4             77060              182265            NaN             NaN  \n",
       "\n",
       "[5 rows x 720 columns]"
      ]
     },
     "execution_count": 2,
     "metadata": {},
     "output_type": "execute_result"
    }
   ],
   "source": [
    "# Code to display the first few rows of the dataset\n",
    "import pandas as pd\n",
    "\n",
    "# Load the dataset\n",
    "data = pd.read_csv('analytic_data2023_0.csv', low_memory=False)\n",
    "\n",
    "# Display the first five rows of the dataset\n",
    "data.head()"
   ]
  },
  {
   "cell_type": "markdown",
   "id": "54019616",
   "metadata": {},
   "source": [
    "Next Steps:\n",
    "The subsequent steps will involve a detailed cleaning and preprocessing of this data to make it suitable for our analysis, which will be discussed in the next section of this notebook."
   ]
  },
  {
   "cell_type": "markdown",
   "id": "15a057a7",
   "metadata": {},
   "source": [
    "#### Data Cleaning and Preparation"
   ]
  },
  {
   "cell_type": "markdown",
   "id": "930eeb92",
   "metadata": {},
   "source": [
    "Handling missing values: strategies and implementation.\n",
    "Outlier detection and treatment.\n",
    "Normalization/Standardization (if required).\n",
    "Include code cells for each step with brief explanations."
   ]
  },
  {
   "cell_type": "code",
   "execution_count": 4,
   "id": "1e9d0172",
   "metadata": {},
   "outputs": [],
   "source": [
    "import pandas as pd\n",
    "data = pd.read_csv('ranked_measure_data.csv', low_memory=False)"
   ]
  },
  {
   "cell_type": "code",
   "execution_count": 5,
   "id": "646a328e",
   "metadata": {},
   "outputs": [],
   "source": [
    "selected_states = ['New York', 'Texas', 'California']\n",
    "filtered_data = data[data['State'].isin(selected_states)]"
   ]
  },
  {
   "cell_type": "code",
   "execution_count": 6,
   "id": "ae78dc73",
   "metadata": {},
   "outputs": [
    {
     "name": "stdout",
     "output_type": "stream",
     "text": [
      "['California' 'New York' 'Texas']\n"
     ]
    }
   ],
   "source": [
    "print(filtered_data['State'].unique())\n",
    "#filtered_data.to_csv('ranked_measure_data_filtered.csv')"
   ]
  },
  {
   "cell_type": "markdown",
   "id": "219f7344",
   "metadata": {},
   "source": [
    "-------------------------------------------------------------------------------------------------------------------------------"
   ]
  },
  {
   "cell_type": "markdown",
   "id": "1c365dd1",
   "metadata": {},
   "source": [
    "### Results"
   ]
  },
  {
   "cell_type": "markdown",
   "id": "4e6841a8",
   "metadata": {},
   "source": [
    "**Exploratory Data Analysis (EDA)**\n",
    "Descriptive statistics (mean, median, variance, etc.).\n",
    "Data visualization (histograms, box plots, bar charts).\n",
    "Identification of patterns or initial observations.\n",
    "Use of markdown cells to explain findings from each plot or statistic."
   ]
  },
  {
   "cell_type": "markdown",
   "id": "1451df15",
   "metadata": {},
   "source": [
    "Our dataset gave us several health factors and outcomes to choose from. Our group wanted to start by observing the replationship between Low Birthweight and Adults Currently Smoking. As displayed by the results we can see that the higher the percentage of adults who smoke resulted in a higher percentage of lower birthweight. This is just one example of a socioeconomic factor and how it can possibly affect health outcomes."
   ]
  },
  {
   "cell_type": "code",
   "execution_count": 13,
   "id": "e25f4422",
   "metadata": {},
   "outputs": [
    {
     "data": {
      "text/plain": [
       "<Figure size 1000x600 with 0 Axes>"
      ]
     },
     "metadata": {},
     "output_type": "display_data"
    },
    {
     "data": {
      "image/png": "[encoded data removed]",
      "text/plain": [
       "<Figure size 640x480 with 1 Axes>"
      ]
     },
     "metadata": {},
     "output_type": "display_data"
    }
   ],
   "source": [
    "import matplotlib.pyplot as plt\n",
    "\n",
    "# Plotting the stacked bar graph with percentages displayed as text\n",
    "plt.figure(figsize=(10, 6))\n",
    "ax = birth_smoking_state_aggregated_data.plot(kind='bar', stacked=True, color=['skyblue', 'salmon'], alpha=0.7)\n",
    "\n",
    "# Adding text annotations for each bar segment\n",
    "for p in ax.patches:\n",
    "    width, height = p.get_width(), p.get_height()\n",
    "    x, y = p.get_xy() \n",
    "    if height > 0:  # Only display if the height is greater than 0\n",
    "        ax.text(x + width/2, \n",
    "                y + height/2, \n",
    "                '{:.1f}%'.format(height), \n",
    "                horizontalalignment='center', \n",
    "                verticalalignment='center')\n",
    "        \n",
    "plt.title('Comparison of % Low Birthweight and % Adults Reporting Currently Smoking')\n",
    "plt.ylabel('Average Percentage (%)')\n",
    "plt.xlabel('State')\n",
    "plt.xticks(rotation=45)\n",
    "plt.legend(title='Metric')\n",
    "plt.tight_layout()\n",
    "\n",
    "plt.show()"
   ]
  },
  {
   "cell_type": "markdown",
   "id": "e7c0795a",
   "metadata": {},
   "source": [
    "--------------------------------------------------------------------------------------------------------------------------------"
   ]
  },
  {
   "cell_type": "markdown",
   "id": "db835962",
   "metadata": {},
   "source": [
    "**Correlation Analysis**\n",
    "Calculation of correlation coefficients.\n",
    "Visualization (scatter plots, heatmaps).\n",
    "Interpretation of correlation results.\n",
    "Discussion of potential relationships between variables."
   ]
  },
  {
   "cell_type": "markdown",
   "id": "f2434842",
   "metadata": {},
   "source": [
    "The following visualizations will assist us in answering our research question on how socioeconomic factors such as income, education, and employment will affect health outcomes. \n",
    "\n",
    "Starting with Income, we will determine how this factor has either positively or negatively impacted whether or not a person obtains insurance coverage. "
   ]
  },
  {
   "cell_type": "code",
   "execution_count": 14,
   "id": "d958ce9e",
   "metadata": {},
   "outputs": [
    {
     "data": {
      "image/png": "[encoded data removed]",
      "text/plain": [
       "<Figure size 1200x800 with 1 Axes>"
      ]
     },
     "metadata": {},
     "output_type": "display_data"
    }
   ],
   "source": [
    "# Import seaborn\n",
    "import seaborn as sns\n",
    "\n",
    "# Filtering the dataset for \"Income Ratio\" and \"% Uninsured\" for each state\n",
    "statewise_income_uninsured_data = filtered_data[['State', 'Income Ratio', '% Uninsured']].dropna()\n",
    "\n",
    "# Aggregating the data at the state level\n",
    "statewise_aggregated_income_uninsured = statewise_income_uninsured_data.groupby('State').mean()\n",
    "\n",
    "# Plotting the scatter plot for statewise comparison with more distinguishable colors\n",
    "plt.figure(figsize=(12, 8))\n",
    "sns.scatterplot(x='Income Ratio', y='% Uninsured', data=statewise_aggregated_income_uninsured, \n",
    "                hue='State', palette='Set1', s=100)\n",
    "plt.title('Statewise Comparison of Income Ratio and % Uninsured')\n",
    "plt.xlabel('Income Ratio')\n",
    "plt.ylabel('% Uninsured')\n",
    "plt.legend(title='State', bbox_to_anchor=(1.05, 1), loc='upper left')\n",
    "plt.grid(True)\n",
    "plt.tight_layout()\n",
    "\n",
    "plt.show()"
   ]
  },
  {
   "cell_type": "markdown",
   "id": "4c07eb66",
   "metadata": {},
   "source": [
    "We will then move to Unemployment and School Status\n",
    "\n",
    "By determining access to insurance coverage we will see how this has affected the health outcomes. Those who do not have access to insurance coverage may not seek medical assistance"
   ]
  },
  {
   "cell_type": "markdown",
   "id": "df41a18e",
   "metadata": {},
   "source": [
    "**Regression Analysis (Optional)**\n",
    "If you decide to include regression analysis, describe the model(s).\n",
    "Implementation of linear or multiple regression models.\n",
    "Interpretation of regression results.\n",
    "Visualization of regression lines or coefficients."
   ]
  },
  {
   "cell_type": "markdown",
   "id": "3428100e",
   "metadata": {},
   "source": [
    "**Inferential Statistics/Machine Learning (As Suggested by Professor)**\n",
    "Brief description of the chosen method(s).\n",
    "Implementation of the method(s) with code.\n",
    "Interpretation of results.\n",
    "Discussion on how these results help answer your research question."
   ]
  },
  {
   "cell_type": "markdown",
   "id": "0ddb54e0",
   "metadata": {},
   "source": [
    "-------------------------------------------------------------------------------------------------------------------------------"
   ]
  },
  {
   "cell_type": "markdown",
   "id": "eb9c635d",
   "metadata": {},
   "source": [
    "### Conclusion"
   ]
  },
  {
   "cell_type": "markdown",
   "id": "aa84ea4c",
   "metadata": {},
   "source": [
    "In conclusion, we have determined that "
   ]
  },
  {
   "cell_type": "markdown",
   "id": "46718a1e",
   "metadata": {},
   "source": [
    "-------------------------------------------------------------------------------------------------------------------------------"
   ]
  },
  {
   "cell_type": "markdown",
   "id": "7ce0cf43",
   "metadata": {},
   "source": [
    "### **References**"
   ]
  },
  {
   "cell_type": "markdown",
   "id": "6efce908",
   "metadata": {},
   "source": [
    "“Explore Health Rankings: 2023 Measures.” County Health Rankings & Roadmaps, www.countyhealthrankings.org/explore-health-rankings/county-health-rankings-measures. Accessed 26 Oct. 2023.\n",
    "\n",
    "“Explore Health Rankings: County Health Rankings Model.” County Health Rankings & Roadmaps, www.countyhealthrankings.org/explore-health-rankings/county-health-rankings-model. Accessed 26 Oct. 2023.\n",
    "\n",
    "“Explore Health Rankings: Rankings Data & Documentation.” County Health Rankings & Roadmaps, www.countyhealthrankings.org/explore-health-rankings/rankings-data-documentation. Accessed 22 Oct. 2023. \n",
    "\n",
    "Ratan SK, Anand T, Ratan J. “Formulation of Research Question - Stepwise Approach.” J Indian Assoc Pediatr Surg. 2019 Jan-Mar; 24(1):15-20. Accessed 24 Oct. 2023\n"
   ]
  }
 ],
 "metadata": {
  "kernelspec": {
   "display_name": "Python 3 (ipykernel)",
   "language": "python",
   "name": "python3"
  },
  "language_info": {
   "codemirror_mode": {
    "name": "ipython",
    "version": 3
   },
   "file_extension": ".py",
   "mimetype": "text/x-python",
   "name": "python",
   "nbconvert_exporter": "python",
   "pygments_lexer": "ipython3",
   "version": "3.11.4"
  }
 },
 "nbformat": 4,
 "nbformat_minor": 5
}
