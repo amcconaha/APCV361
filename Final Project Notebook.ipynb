{
 "cells": [
  {
   "cell_type": "markdown",
   "id": "3838ee98",
   "metadata": {},
   "source": [
    "# Final Project Notebook\n",
    "\n",
    "### Amber Greer and Ashlyn Mcconaha\n",
    "\n",
    "#### University of Arizona - APCV-361 \n",
    "\n",
    "#### Professor Li Xu\n"
   ]
  },
  {
   "cell_type": "markdown",
   "id": "a2609e98",
   "metadata": {},
   "source": [
    "                                 Socioeconomic Factors and Health Outcomes"
   ]
  },
  {
   "cell_type": "markdown",
   "id": "d9cc3203",
   "metadata": {},
   "source": [
    "Research Question: “How do socioeconomic factors such as income, education, and employment affect health outcomes such as premature death rates and overall health quality in counties?”"
   ]
  },
  {
   "cell_type": "markdown",
   "id": "cbc1bdb6",
   "metadata": {},
   "source": [
    "#### Summary\n"
   ]
  },
  {
   "cell_type": "markdown",
   "id": "034b69e3",
   "metadata": {},
   "source": [
    "For our project we determined that income, education, and employment status were the variables we wanted to evaluate. \n",
    "By evaluating these variables in conjunction with quality-of-life variables such as poor or fair health, poor physical health days, poor mental health days, and low birthweight and/or length of life variables such as premature death (years of potential life lost before age 75) it would paint a robust picture of any correlations in those areas. \n",
    "The social economic factors and health outcomes that we have chosen will give us a variety of different results and We will be evaluating across three different areas New York, Texas and California. "
   ]
  },
  {
   "cell_type": "markdown",
   "id": "3a1b40c7",
   "metadata": {},
   "source": [
    "#### Methodology/algorithm"
   ]
  },
  {
   "cell_type": "markdown",
   "id": "2caaa4f9",
   "metadata": {},
   "source": [
    "#### Results"
   ]
  },
  {
   "cell_type": "markdown",
   "id": "eb9c635d",
   "metadata": {},
   "source": [
    "#### Conclusion"
   ]
  },
  {
   "cell_type": "code",
   "execution_count": null,
   "id": "2c765a99",
   "metadata": {},
   "outputs": [],
   "source": []
  }
 ],
 "metadata": {
  "kernelspec": {
   "display_name": "Python 3 (ipykernel)",
   "language": "python",
   "name": "python3"
  },
  "language_info": {
   "codemirror_mode": {
    "name": "ipython",
    "version": 3
   },
   "file_extension": ".py",
   "mimetype": "text/x-python",
   "name": "python",
   "nbconvert_exporter": "python",
   "pygments_lexer": "ipython3",
   "version": "3.11.4"
  }
 },
 "nbformat": 4,
 "nbformat_minor": 5
}
